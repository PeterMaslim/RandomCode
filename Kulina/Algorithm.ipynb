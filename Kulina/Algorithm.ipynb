{
 "cells": [
  {
   "cell_type": "markdown",
   "metadata": {},
   "source": [
    "# Algorithm Answer"
   ]
  },
  {
   "cell_type": "markdown",
   "metadata": {},
   "source": [
    "## 1. Buat pseudocode atau code sesuai bahasa yang dikuasai untuk menampilkan bilangan prima berdasarkan user input"
   ]
  },
  {
   "cell_type": "markdown",
   "metadata": {},
   "source": [
    "### Asumsi 1. User input suatu bilangan dan menampilkan semua bilangan prima dari 1 hingga bilangan tersebut"
   ]
  },
  {
   "cell_type": "code",
   "execution_count": 16,
   "metadata": {
    "collapsed": true
   },
   "outputs": [],
   "source": [
    "def isPrime(number):\n",
    "    NumberOfFullDivision = 0\n",
    "    for x in range(1,number+1):\n",
    "        if (number % x) == 0:\n",
    "            NumberOfFullDivision += 1\n",
    "    if NumberOfFullDivision == 2:\n",
    "        return True\n",
    "    else:\n",
    "        return False"
   ]
  },
  {
   "cell_type": "code",
   "execution_count": 18,
   "metadata": {
    "collapsed": true
   },
   "outputs": [],
   "source": [
    "def printPrimesQ1(number):\n",
    "    for x in range(number+1):\n",
    "        if isPrime(x):\n",
    "            print(x)"
   ]
  },
  {
   "cell_type": "markdown",
   "metadata": {},
   "source": [
    "#### Test"
   ]
  },
  {
   "cell_type": "code",
   "execution_count": 19,
   "metadata": {},
   "outputs": [
    {
     "name": "stdout",
     "output_type": "stream",
     "text": [
      "2\n",
      "3\n",
      "5\n",
      "7\n",
      "11\n",
      "13\n",
      "17\n",
      "19\n",
      "23\n",
      "29\n",
      "31\n",
      "37\n",
      "41\n",
      "43\n",
      "47\n",
      "53\n",
      "59\n",
      "61\n",
      "67\n",
      "71\n",
      "73\n",
      "79\n",
      "83\n",
      "89\n",
      "97\n"
     ]
    }
   ],
   "source": [
    "printPrimesQ1(100)"
   ]
  },
  {
   "cell_type": "markdown",
   "metadata": {},
   "source": [
    "### Asumsi 2. User input suatu bilangan x dan menampilkan sejumlah x bilangan prima pertama "
   ]
  },
  {
   "cell_type": "code",
   "execution_count": 25,
   "metadata": {
    "collapsed": true
   },
   "outputs": [],
   "source": [
    "def printPrimesQ2(number):\n",
    "    counter = 0\n",
    "    currPrime = 2\n",
    "    while counter != number:\n",
    "        if isPrime(currPrime):\n",
    "            print(currPrime)\n",
    "            counter += 1\n",
    "        currPrime += 1"
   ]
  },
  {
   "cell_type": "markdown",
   "metadata": {},
   "source": [
    "#### Test"
   ]
  },
  {
   "cell_type": "code",
   "execution_count": 28,
   "metadata": {},
   "outputs": [
    {
     "name": "stdout",
     "output_type": "stream",
     "text": [
      "2\n",
      "3\n",
      "5\n",
      "7\n",
      "11\n",
      "13\n",
      "17\n",
      "19\n",
      "23\n",
      "29\n"
     ]
    }
   ],
   "source": [
    "printPrimesQ2(10)"
   ]
  },
  {
   "cell_type": "markdown",
   "metadata": {},
   "source": [
    "## 2. Tampilkan bilangan fibonaci berdasarkan user input"
   ]
  },
  {
   "cell_type": "code",
   "execution_count": 29,
   "metadata": {
    "collapsed": true
   },
   "outputs": [],
   "source": [
    "def Fibbonaci(number):\n",
    "    if number == 0:\n",
    "        return 0\n",
    "    elif number == 1 or number == 2:\n",
    "        return 1\n",
    "    else:\n",
    "        return Fibbonaci(number-1)+Fibbonaci(number-2)"
   ]
  },
  {
   "cell_type": "markdown",
   "metadata": {},
   "source": [
    "#### Test"
   ]
  },
  {
   "cell_type": "code",
   "execution_count": 30,
   "metadata": {},
   "outputs": [
    {
     "data": {
      "text/plain": [
       "55"
      ]
     },
     "execution_count": 30,
     "metadata": {},
     "output_type": "execute_result"
    }
   ],
   "source": [
    "Fibbonaci(10)"
   ]
  },
  {
   "cell_type": "code",
   "execution_count": 31,
   "metadata": {},
   "outputs": [
    {
     "name": "stdout",
     "output_type": "stream",
     "text": [
      "0\n",
      "1\n",
      "1\n",
      "2\n",
      "3\n",
      "5\n",
      "8\n",
      "13\n",
      "21\n",
      "34\n"
     ]
    }
   ],
   "source": [
    "for x in range(10):\n",
    "    print(Fibbonaci(x))"
   ]
  },
  {
   "cell_type": "markdown",
   "metadata": {},
   "source": [
    "## 3. Ada Input angka: 1.345.679\n",
    "### Buat pseudocode atau code sesuai bahasa yang dikuasai, agar menghasilkan output:\n",
    "#### 1000000\n",
    "#### 300000\n",
    "#### 40000\n",
    "#### 5000\n",
    "#### 600\n",
    "#### 70\n",
    "#### 9"
   ]
  },
  {
   "cell_type": "markdown",
   "metadata": {},
   "source": [
    "### Pendekatan dengan typecasting ke String"
   ]
  },
  {
   "cell_type": "code",
   "execution_count": 27,
   "metadata": {},
   "outputs": [],
   "source": [
    "#solution1 using string typecasting\n",
    "def solution1(number):\n",
    "    temp = str(number)\n",
    "    for x in range(len(temp)):\n",
    "        zeros = len(temp)-1-x\n",
    "        print(temp[x]+('0'*zeros))"
   ]
  },
  {
   "cell_type": "markdown",
   "metadata": {},
   "source": [
    "#### Test"
   ]
  },
  {
   "cell_type": "code",
   "execution_count": 73,
   "metadata": {
    "scrolled": true
   },
   "outputs": [
    {
     "name": "stdout",
     "output_type": "stream",
     "text": [
      "10000000\n",
      "3000000\n",
      "300000\n",
      "40000\n",
      "5000\n",
      "600\n",
      "70\n",
      "9\n"
     ]
    }
   ],
   "source": [
    "#test\n",
    "solution1(13345679)"
   ]
  },
  {
   "cell_type": "markdown",
   "metadata": {},
   "source": [
    "### Pendekatan Aritmatik"
   ]
  },
  {
   "cell_type": "code",
   "execution_count": 70,
   "metadata": {},
   "outputs": [],
   "source": [
    "#solution2 using arithmatic\n",
    "def solution2(number):\n",
    "    arr = list()\n",
    "    temp = int(number)\n",
    "    while(int(temp) != 0):\n",
    "        arr.append(temp%10)\n",
    "        temp = temp/10\n",
    "    for x in range(len(arr)-1,-1,-1):\n",
    "        print(int(arr[x])*10**x)"
   ]
  },
  {
   "cell_type": "markdown",
   "metadata": {},
   "source": [
    "#### Test"
   ]
  },
  {
   "cell_type": "code",
   "execution_count": 72,
   "metadata": {},
   "outputs": [
    {
     "name": "stdout",
     "output_type": "stream",
     "text": [
      "50000\n",
      "4000\n",
      "300\n",
      "20\n",
      "1\n",
      "\n",
      "700000000\n",
      "10000000\n",
      "2000000\n",
      "300000\n",
      "80000\n",
      "7000\n",
      "500\n",
      "20\n",
      "3\n"
     ]
    }
   ],
   "source": [
    "#test\n",
    "solution2(54321)\n",
    "print()\n",
    "solution2(712387523)"
   ]
  }
 ],
 "metadata": {
  "kernelspec": {
   "display_name": "Python 3",
   "language": "python",
   "name": "python3"
  },
  "language_info": {
   "codemirror_mode": {
    "name": "ipython",
    "version": 3
   },
   "file_extension": ".py",
   "mimetype": "text/x-python",
   "name": "python",
   "nbconvert_exporter": "python",
   "pygments_lexer": "ipython3",
   "version": "3.6.1"
  }
 },
 "nbformat": 4,
 "nbformat_minor": 2
}
